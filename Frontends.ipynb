{
 "metadata": {
  "celltoolbar": "Slideshow",
  "kernelspec": {
   "codemirror_mode": {
    "name": "ipython",
    "version": 3
   },
   "display_name": "IPython (Python 3)",
   "language": "python",
   "name": "python3"
  },
  "name": "",
  "signature": "sha256:fe83a99f8717415010694c3af862df67d8bdfb8f1313b1f777df4c2a79ee4803"
 },
 "nbformat": 3,
 "nbformat_minor": 0,
 "worksheets": [
  {
   "cells": [
    {
     "cell_type": "markdown",
     "metadata": {},
     "source": [
      "<br><br><br><br>"
     ]
    },
    {
     "cell_type": "heading",
     "level": 1,
     "metadata": {},
     "source": [
      "<center>IPython: protocol, kernels and new features </center>"
     ]
    },
    {
     "cell_type": "markdown",
     "metadata": {},
     "source": [
      "<center><br><br><br>\n",
      "\n",
      "<h3> with [Thomas Kluyver](https://twitter.com/takluyver) and [Matthias Bussonnier](https://twitter.com/mbussonn)\n",
      "<br><br>[https://github.com/ipython/front-to-back](https://github.com/ipython/front-to-back)\n",
      "</h3>\n",
      "<br><br><br><br><br>\n",
      "<br><br><br>\n",
      "\n",
      "</center>"
     ]
    },
    {
     "cell_type": "markdown",
     "metadata": {},
     "source": [
      "&nbsp;"
     ]
    },
    {
     "cell_type": "markdown",
     "metadata": {},
     "source": [
      "<br><br><br><br>"
     ]
    },
    {
     "cell_type": "markdown",
     "metadata": {},
     "source": [
      "<br><br><br><br>"
     ]
    },
    {
     "cell_type": "heading",
     "level": 1,
     "metadata": {
      "slideshow": {
       "slide_type": "slide"
      }
     },
     "source": [
      "<center>We lied</center>"
     ]
    },
    {
     "cell_type": "heading",
     "level": 3,
     "metadata": {},
     "source": [
      "<center>\n",
      "This talk is not about IPython. It's about Jupyter.\n",
      "</center>"
     ]
    },
    {
     "cell_type": "markdown",
     "metadata": {},
     "source": [
      "![ipython universe](files/images/Jup_gal.png)\n",
      "\n",
      "<center>\n",
      "[jupyter.org](//jupyter.org) , and  @ProjectJupyter\n",
      "</center>"
     ]
    },
    {
     "cell_type": "heading",
     "level": 1,
     "metadata": {
      "slideshow": {
       "slide_type": "slide"
      }
     },
     "source": [
      "Where Jupyter come from ?"
     ]
    },
    {
     "cell_type": "heading",
     "level": 2,
     "metadata": {
      "slideshow": {
       "slide_type": "-"
      }
     },
     "source": [
      "Why is it called IPython if it can do ... :"
     ]
    },
    {
     "cell_type": "markdown",
     "metadata": {},
     "source": [
      "1.   [IJulia](http://nbviewer.ipython.org/url/jdj.mit.edu/~stevenj/IJulia%20Preview.ipynb)\n",
      "1.   [IHaskell](http://nbviewer.ipython.org/github/gibiansky/IHaskell/blob/master/demo/IHaskell.ipynb)\n",
      "1.   [IFSharp](http://nbviewer.ipython.org/github/BayardRock/IfSharp/blob/master/Feature%20Notebook.ipynb)\n",
      "1.   [IRuby](http://nbviewer.ipython.org/github/minad/iruby/blob/master/IRuby-Example.ipynb)\n",
      "1.   [IGo](https://github.com/takluyver/igo)\n",
      "1.   [IScala](https://github.com/mattpap/IScala)\n",
      "1.   [IMathics](http://nbviewer.ipython.org/gist/sn6uv/8381447)\n",
      "1.   [IAldor](https://github.com/mattpap/IAldor)\n",
      "1.   [Calico Project](http://nbviewer.ipython.org/urls/bitbucket.org/ipre/calico/raw/master/notebooks/Calico%20Overview.ipynb)\n",
      "1.   [Lua Kernel](https://github.com/neomantra/lua_ipython_kernel)\n",
      "1.   [RKernel](https://github.com/takluyver/IRkernel)\n",
      "1.   [IErlang](https://github.com/robbielynch/ierlang)\n",
      "1.   [IOCaml](https://github.com/andrewray/iocaml)\n",
      "1.   [IForth](https://github.com/jdfreder/iforth)\n",
      "1.   [IPerl](https://metacpan.org/release/Devel-IPerl)\n",
      "1.   [IOctave](https://github.com/blink1073/octave_kernel)\n",
      "1.   [IScilab](https://github.com/blink1073/scilab_kernel)"
     ]
    },
    {
     "cell_type": "heading",
     "level": 1,
     "metadata": {
      "slideshow": {
       "slide_type": "slide"
      }
     },
     "source": [
      "Decouple Language agnostic part becomes Jupyter:"
     ]
    },
    {
     "cell_type": "markdown",
     "metadata": {},
     "source": [
      "\n",
      "\n",
      "<br/>\n",
      "<br/><br/><br/><br/>\n",
      "\n",
      "- Network protocol for interactive computing\n",
      " - Client for protocol\n",
      "     - Console\n",
      "     - Notebook\n",
      "     - (Qt Console)\n",
      " - Notebook fileformat and tools (nbconvert..) \n",
      " - Nbviewer\n",
      " ..."
     ]
    },
    {
     "cell_type": "markdown",
     "metadata": {},
     "source": [
      "<br><br><br><br>"
     ]
    },
    {
     "cell_type": "heading",
     "level": 2,
     "metadata": {
      "slideshow": {
       "slide_type": "slide"
      }
     },
     "source": [
      "Why shoudl I care ? "
     ]
    },
    {
     "cell_type": "markdown",
     "metadata": {},
     "source": [
      "<br><br><br><br>\n",
      "\n",
      "\n",
      "Implement one piece - and get the others for free.\n",
      "\n",
      "(Cf Steven G. Jonhson Keynote)\n",
      "\n",
      "Write Julia Kernel, Get Notebook, Qt, Nbviewer ... console."
     ]
    },
    {
     "cell_type": "heading",
     "level": 1,
     "metadata": {
      "slideshow": {
       "slide_type": "slide"
      }
     },
     "source": [
      "Client"
     ]
    },
    {
     "cell_type": "markdown",
     "metadata": {},
     "source": [
      "<br><br><br><br>"
     ]
    },
    {
     "cell_type": "heading",
     "level": 2,
     "metadata": {},
     "source": [
      "- connects to exactly one kernel\n",
      "<br><br><br>\n",
      "- send messages to kernel based on user actions\n",
      "<br><br><br>\n",
      "- displays kernel messages when appropriate"
     ]
    },
    {
     "cell_type": "heading",
     "level": 1,
     "metadata": {
      "slideshow": {
       "slide_type": "slide"
      }
     },
     "source": [
      "Why have many clients?"
     ]
    },
    {
     "cell_type": "markdown",
     "metadata": {},
     "source": [
      "Differences in\n",
      "\n",
      "\n",
      "- **multiline editing**\n",
      "    - qtconsole\n",
      "    - vim-ipython\n",
      "    - notebook\n",
      "- **display capabilities**\n",
      "    - images in qtconsole\n",
      "    - images, video, javascript in notebook\n",
      "- **persistence** \n",
      "    - no save and rerun in console, qtconsole\n",
      "    - .ipynb files for notebook, EIN\n",
      "    - files for vim-ipython\n",
      "- **client-side requirements**\n",
      "    - python for console, qtconsle, vim-ipython, bipython\n",
      "    - modern webbrowser for notebook\n",
      "- **interactivity** (bipython)\n",
      "\n",
      "- **there is no \"One Client\"**\n",
      "    - So no way to rule them all"
     ]
    },
    {
     "cell_type": "heading",
     "level": 1,
     "metadata": {
      "slideshow": {
       "slide_type": "slide"
      }
     },
     "source": [
      "Clients"
     ]
    },
    {
     "cell_type": "markdown",
     "metadata": {},
     "source": [
      "## ship with ipython:\n",
      "\n",
      "`ipython qtconsole` - the original decoupling, uses Qt4\n",
      "\n",
      "`ipython console` - terminal version, decoupled \n",
      "\n",
      "- (different from the classic single process `ipython`)\n",
      "\n",
      "both of these actually start a kernel and a client, \n",
      "  pass `--existing` flag to not start a *new* kernel \n",
      "  and instead simply connect to one that already\n",
      "    exists\n",
      "\n",
      "\n",
      "`ipython notebook` &diams; &diams; - more on this later"
     ]
    },
    {
     "cell_type": "markdown",
     "metadata": {},
     "source": [
      "<br><br><br><br>"
     ]
    },
    {
     "cell_type": "markdown",
     "metadata": {
      "slideshow": {
       "slide_type": "slide"
      }
     },
     "source": [
      "## 3rd party\n",
      "\n",
      "\n",
      "<br/>\n",
      "<br/><br/><br/>\n",
      "- [vim-ipython](https://github.com/ivanov/vim-ipython)\n",
      "\n",
      "- [bipython](http://bipython.org)\n",
      "\n",
      "- [EIN - Emacs IPython Notebook](http://tkf.github.io/emacs-ipython-notebook/) (OOS)\n",
      "\n",
      "- Plugin for sublime-text, atom, ...\n",
      "\n",
      "- ([coLaboratory](http://github.com/Jupyter/colaboratory))\n"
     ]
    },
    {
     "cell_type": "markdown",
     "metadata": {},
     "source": [
      "<br><br><br><br>"
     ]
    },
    {
     "cell_type": "markdown",
     "metadata": {},
     "source": [
      "<br><br><br><br>"
     ]
    },
    {
     "cell_type": "heading",
     "level": 1,
     "metadata": {
      "slideshow": {
       "slide_type": "slide"
      }
     },
     "source": [
      "[bipython](http://bipython.org)"
     ]
    },
    {
     "cell_type": "markdown",
     "metadata": {},
     "source": [
      "[![bipython logo](files/images/bipython_logo.png)](http://bipython.org)<br><br><br>"
     ]
    },
    {
     "cell_type": "markdown",
     "metadata": {},
     "source": [
      "Paul ivanov ripped out the messaging code from vim-ipython, \n",
      "\n",
      "and slapped them on top of [bpython](http://bpython-interpreter.org/)'s [urwid](http://urwid.org/) interface."
     ]
    },
    {
     "cell_type": "markdown",
     "metadata": {},
     "source": [
      "<br><br><br>"
     ]
    },
    {
     "cell_type": "markdown",
     "metadata": {},
     "source": [
      "## Live"
     ]
    },
    {
     "cell_type": "heading",
     "level": 2,
     "metadata": {
      "slideshow": {
       "slide_type": "slide"
      }
     },
     "source": [
      "coLaboratory"
     ]
    },
    {
     "cell_type": "markdown",
     "metadata": {},
     "source": [
      "New frontend from Google/yt teams, now under Jupyter umbrella.\n",
      "\n",
      "K. Patel, K. Tong, M. Sandler, C. Cortes, M. Turk,...(usual suspect) and *You* can colaborate\n",
      "\n",
      "CoLaboraory use also notebook, real time CoLaboration on google drive. \n",
      "\n",
      "\n",
      "\n",
      "<center> <h2>Demo</h2> </center>"
     ]
    },
    {
     "cell_type": "markdown",
     "metadata": {},
     "source": [
      "<br><br><br><br>"
     ]
    },
    {
     "cell_type": "code",
     "collapsed": false,
     "input": [],
     "language": "python",
     "metadata": {},
     "outputs": []
    }
   ],
   "metadata": {}
  }
 ]
}